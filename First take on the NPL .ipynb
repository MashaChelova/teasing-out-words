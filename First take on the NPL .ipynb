{
 "cells": [
  {
   "cell_type": "code",
   "execution_count": 1,
   "id": "successful-birth",
   "metadata": {},
   "outputs": [],
   "source": [
    "#from a given text \n",
    "#take away the punctuation\n",
    "#post tag\n",
    "#pick nouns \n",
    "#pick verbs\n",
    "#serach for 3 most similar nouns\n",
    "#search for 3  most similar verbs\n",
    "#pick 1 noun\n",
    "#pick 1 verb\n"
   ]
  },
  {
   "cell_type": "code",
   "execution_count": 4,
   "id": "western-franklin",
   "metadata": {},
   "outputs": [
    {
     "name": "stderr",
     "output_type": "stream",
     "text": [
      "[nltk_data] Downloading package brown to /Users/Masha/nltk_data...\n",
      "[nltk_data]   Package brown is already up-to-date!\n"
     ]
    }
   ],
   "source": [
    "#imports\n",
    "#pip install nltk\n",
    "#pip install gensim\n",
    "import nltk\n",
    "from nltk.tokenize import word_tokenize\n",
    "nltk.download('brown')\n",
    "import random\n",
    "import gensim\n",
    "from nltk.data import find\n",
    "from nltk.corpus import stopwords"
   ]
  },
  {
   "cell_type": "code",
   "execution_count": 6,
   "id": "premium-civilian",
   "metadata": {
    "scrolled": true
   },
   "outputs": [],
   "source": [
    "#write a function that takes a sentense, teases out nouns\n",
    "#\n",
    "def get_words(text):\n",
    "    word2vec_sample = str(find('models/word2vec_sample/pruned.word2vec.txt'))\n",
    "    model = gensim.models.KeyedVectors.load_word2vec_format(word2vec_sample, binary=False)\n",
    "    stopWords = set(stopwords.words('english'))\n",
    "    text = nltk.word_tokenize(text)\n",
    "    # remove capitalization\n",
    "    text = [word.lower() for word in text]\n",
    "    text1 = nltk.pos_tag(text)\n",
    "    nouns = []\n",
    "    for n in text1: \n",
    "        if n[1].startswith('N'):\n",
    "            nouns.append(n[0])\n",
    "            \n",
    "    verbs = []\n",
    "    for n in text1: \n",
    "        if n[1].startswith('V'):\n",
    "            verbs.append(n[0])\n",
    "            \n",
    "    #choose at random a noun from the list nouns above        \n",
    "    noun_chosen = random.randint(0,len(nouns)-1)\n",
    "    noun = nouns[noun_chosen]\n",
    "\n",
    "    #choose at random a verb from the list nouns above  \n",
    "    verb_chosen = random.randint(0,len(verbs)-1)\n",
    "    verb = verbs[verb_chosen]\n",
    "    \n",
    "    #pick 3 most similar nouns to the noun chosen in previous step \n",
    "    list_nouns = model.most_similar(positive=[noun], topn = 3)\n",
    "    #pick 10 most similar verbs to the verb in previous step\n",
    "    list_verbs = model.most_similar(positive=[verb], topn = 10)\n",
    "    \n",
    "    #create a list of similar nouns and verbs\n",
    "    similar_nouns = [s[0] for s in list_nouns]\n",
    "    similar_verbs = [s[0] for s in list_verbs]\n",
    "\n",
    "    similar2_verbs = [v for v in similar_verbs if v not in stopWords]\n",
    "    return similar_nouns, similar2_verbs[-3:]\n",
    "    \n",
    "    "
   ]
  },
  {
   "cell_type": "markdown",
   "id": "functional-depth",
   "metadata": {},
   "source": [
    "Enter the text as a string below"
   ]
  },
  {
   "cell_type": "code",
   "execution_count": 8,
   "id": "intimate-chain",
   "metadata": {},
   "outputs": [],
   "source": [
    "nouns, verbs = get_words(\"the summer days are getting longer as the moon is shinging brighter and the stars are filled with expectations for the red sause\")"
   ]
  },
  {
   "cell_type": "code",
   "execution_count": 9,
   "id": "streaming-concord",
   "metadata": {},
   "outputs": [
    {
     "name": "stdout",
     "output_type": "stream",
     "text": [
      "['expectation', 'Expectations', 'projections']\n"
     ]
    }
   ],
   "source": [
    "print(nouns)"
   ]
  },
  {
   "cell_type": "code",
   "execution_count": 10,
   "id": "working-orbit",
   "metadata": {},
   "outputs": [
    {
     "name": "stdout",
     "output_type": "stream",
     "text": [
      "['makes', 'constitutes', 'involves']\n"
     ]
    }
   ],
   "source": [
    "print(verbs)"
   ]
  }
 ],
 "metadata": {
  "kernelspec": {
   "display_name": "Python 3",
   "language": "python",
   "name": "python3"
  },
  "language_info": {
   "codemirror_mode": {
    "name": "ipython",
    "version": 3
   },
   "file_extension": ".py",
   "mimetype": "text/x-python",
   "name": "python",
   "nbconvert_exporter": "python",
   "pygments_lexer": "ipython3",
   "version": "3.8.6"
  }
 },
 "nbformat": 4,
 "nbformat_minor": 5
}
